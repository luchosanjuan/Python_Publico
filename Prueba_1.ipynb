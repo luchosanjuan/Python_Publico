{
  "nbformat": 4,
  "nbformat_minor": 0,
  "metadata": {
    "colab": {
      "name": "Luciano Grossi -  Practico 1",
      "provenance": [],
      "collapsed_sections": [],
      "authorship_tag": "ABX9TyO6VXdx/D7uNb5MXhB0XjBw"
    },
    "kernelspec": {
      "name": "python3",
      "display_name": "Python 3"
    },
    "language_info": {
      "name": "python"
    }
  },
  "cells": [
    {
      "cell_type": "code",
      "execution_count": null,
      "metadata": {
        "colab": {
          "base_uri": "https://localhost:8080/"
        },
        "id": "RC0Z0z-WgkFL",
        "outputId": "6db8464a-def0-488f-bbf7-f974ec0b97dc"
      },
      "outputs": [
        {
          "output_type": "stream",
          "name": "stdout",
          "text": [
            "Pedro Pepito, 8.5, Matematica\n",
            "['Pedro Pepito', '8.5', 'Matematica']\n",
            "Nombre de Alumno:  Pedro Pepito\n",
            "Nota:  8.5\n",
            "Materia:  Matematica\n",
            "El Alumno Pedro Pepito Obtuvo la nota: 8.5 en la materia Matematica\n"
          ]
        }
      ],
      "source": [
        "cadena = \"acitametaM ,5.8 ,otipeP ordeP\"\n",
        "cadena_invertida = cadena[::-1]\n",
        "print(cadena_invertida)\n",
        "separado = cadena_invertida.split(sep=', ')\n",
        "print(separado)\n",
        "print(\"Nombre de Alumno: \", separado[0])\n",
        "print(\"Nota: \", separado[1])\n",
        "print(\"Materia: \", separado[2])\n",
        "print(\"El Alumno: \" + separado[0] + \" Obtuvo la nota: \" + separado[1] + \" en la materia: \" + separado[2]) "
      ]
    }
  ]
}